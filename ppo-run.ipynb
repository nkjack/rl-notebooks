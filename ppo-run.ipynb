{
 "cells": [
  {
   "cell_type": "code",
   "execution_count": 2,
   "metadata": {},
   "outputs": [
    {
     "name": "stdout",
     "output_type": "stream",
     "text": [
      "\n",
      "Using ppo formulation of policy gradient.\n",
      "\n",
      "2020-12-19 20:51:53.113 python[62106:633695] Warning: Expected min height of view: (<NSPopoverTouchBarItemButton: 0x7fb06c4710d0>) to be less than or equal to 30 but got a height of 32.000000. This error will be logged once per view in violation.\n",
      "2020-12-19 20:51:53.114 python[62106:633695] Warning: Expected min height of view: (<NSButton: 0x7fb06640f320>) to be less than or equal to 30 but got a height of 32.000000. This error will be logged once per view in violation.\n",
      "2020-12-19 20:51:53.115 python[62106:633695] Warning: Expected min height of view: (<NSPopoverTouchBarItemButton: 0x7fb06d76b5c0>) to be less than or equal to 30 but got a height of 32.000000. This error will be logged once per view in violation.\n",
      "2020-12-19 20:51:53.117 python[62106:633695] Warning: Expected min height of view: (<NSPopoverTouchBarItemButton: 0x7fb06d774f10>) to be less than or equal to 30 but got a height of 32.000000. This error will be logged once per view in violation.\n",
      "epoch:   0 \t loss_policy: -8.630 \t loss_advantage: 271.092 \t return: 22.484 \t ep_len: 22.484\n",
      "epoch:   1 \t loss_policy: -8.961 \t loss_advantage: 333.367 \t return: 27.288 \t ep_len: 27.288\n",
      "epoch:   2 \t loss_policy: -9.030 \t loss_advantage: 414.746 \t return: 33.364 \t ep_len: 33.364\n",
      "epoch:   3 \t loss_policy: -7.836 \t loss_advantage: 416.545 \t return: 36.406 \t ep_len: 36.406\n",
      "epoch:   4 \t loss_policy: -5.081 \t loss_advantage: 312.824 \t return: 39.233 \t ep_len: 39.233\n",
      "epoch:   5 \t loss_policy: -0.527 \t loss_advantage: 197.487 \t return: 42.193 \t ep_len: 42.193\n",
      "epoch:   6 \t loss_policy: 1.750 \t loss_advantage: 346.774 \t return: 50.060 \t ep_len: 50.060\n",
      "epoch:   7 \t loss_policy: 4.461 \t loss_advantage: 431.697 \t return: 49.078 \t ep_len: 49.078\n",
      "epoch:   8 \t loss_policy: -0.110 \t loss_advantage: 435.839 \t return: 66.224 \t ep_len: 66.224\n",
      "epoch:   9 \t loss_policy: -0.617 \t loss_advantage: 295.367 \t return: 60.542 \t ep_len: 60.542\n",
      "epoch:  10 \t loss_policy: -2.936 \t loss_advantage: 326.388 \t return: 59.679 \t ep_len: 59.679\n",
      "epoch:  11 \t loss_policy: -4.709 \t loss_advantage: 527.983 \t return: 64.744 \t ep_len: 64.744\n",
      "epoch:  12 \t loss_policy: -4.590 \t loss_advantage: 540.172 \t return: 76.179 \t ep_len: 76.179\n",
      "epoch:  13 \t loss_policy: -2.880 \t loss_advantage: 465.999 \t return: 86.931 \t ep_len: 86.931\n",
      "epoch:  14 \t loss_policy: -1.281 \t loss_advantage: 440.826 \t return: 100.560 \t ep_len: 100.560\n",
      "epoch:  15 \t loss_policy: 0.174 \t loss_advantage: 476.221 \t return: 105.146 \t ep_len: 105.146\n",
      "epoch:  16 \t loss_policy: -0.714 \t loss_advantage: 441.669 \t return: 126.825 \t ep_len: 126.825\n",
      "epoch:  17 \t loss_policy: -1.342 \t loss_advantage: 324.251 \t return: 129.641 \t ep_len: 129.641\n",
      "epoch:  18 \t loss_policy: -1.872 \t loss_advantage: 307.775 \t return: 132.158 \t ep_len: 132.158\n",
      "epoch:  19 \t loss_policy: -2.277 \t loss_advantage: 345.522 \t return: 142.750 \t ep_len: 142.750\n",
      "epoch:  20 \t loss_policy: -2.924 \t loss_advantage: 389.176 \t return: 167.200 \t ep_len: 167.200\n",
      "epoch:  21 \t loss_policy: -1.576 \t loss_advantage: 360.935 \t return: 161.469 \t ep_len: 161.469\n",
      "epoch:  22 \t loss_policy: -0.290 \t loss_advantage: 444.258 \t return: 163.355 \t ep_len: 163.355\n",
      "epoch:  23 \t loss_policy: 0.434 \t loss_advantage: 456.906 \t return: 180.286 \t ep_len: 180.286\n",
      "epoch:  24 \t loss_policy: 0.745 \t loss_advantage: 352.447 \t return: 181.500 \t ep_len: 181.500\n",
      "epoch:  25 \t loss_policy: 0.305 \t loss_advantage: 343.780 \t return: 184.857 \t ep_len: 184.857\n",
      "epoch:  26 \t loss_policy: -0.812 \t loss_advantage: 274.831 \t return: 179.214 \t ep_len: 179.214\n",
      "epoch:  27 \t loss_policy: -1.412 \t loss_advantage: 208.515 \t return: 174.241 \t ep_len: 174.241\n",
      "epoch:  28 \t loss_policy: -1.734 \t loss_advantage: 205.201 \t return: 186.889 \t ep_len: 186.889\n",
      "epoch:  29 \t loss_policy: -0.614 \t loss_advantage: 245.289 \t return: 179.310 \t ep_len: 179.310\n",
      "epoch:  30 \t loss_policy: -0.643 \t loss_advantage: 155.183 \t return: 177.931 \t ep_len: 177.931\n",
      "epoch:  31 \t loss_policy: 0.218 \t loss_advantage: 240.201 \t return: 182.750 \t ep_len: 182.750\n",
      "epoch:  32 \t loss_policy: 0.151 \t loss_advantage: 206.012 \t return: 177.966 \t ep_len: 177.966\n",
      "epoch:  33 \t loss_policy: -0.190 \t loss_advantage: 253.072 \t return: 183.071 \t ep_len: 183.071\n",
      "epoch:  34 \t loss_policy: -1.247 \t loss_advantage: 198.650 \t return: 182.571 \t ep_len: 182.571\n",
      "epoch:  35 \t loss_policy: -1.838 \t loss_advantage: 239.141 \t return: 190.630 \t ep_len: 190.630\n",
      "epoch:  36 \t loss_policy: -1.154 \t loss_advantage: 250.701 \t return: 188.000 \t ep_len: 188.000\n",
      "epoch:  37 \t loss_policy: 0.256 \t loss_advantage: 374.540 \t return: 192.538 \t ep_len: 192.538\n",
      "epoch:  38 \t loss_policy: 0.197 \t loss_advantage: 349.476 \t return: 198.769 \t ep_len: 198.769\n",
      "epoch:  39 \t loss_policy: -1.044 \t loss_advantage: 261.815 \t return: 196.731 \t ep_len: 196.731\n",
      "epoch:  40 \t loss_policy: -1.321 \t loss_advantage: 322.419 \t return: 196.154 \t ep_len: 196.154\n",
      "epoch:  41 \t loss_policy: -0.928 \t loss_advantage: 341.947 \t return: 200.000 \t ep_len: 200.000\n",
      "epoch:  42 \t loss_policy: -0.859 \t loss_advantage: 318.491 \t return: 196.654 \t ep_len: 196.654\n",
      "epoch:  43 \t loss_policy: -0.749 \t loss_advantage: 321.034 \t return: 197.615 \t ep_len: 197.615\n",
      "epoch:  44 \t loss_policy: -0.768 \t loss_advantage: 323.893 \t return: 200.000 \t ep_len: 200.000\n",
      "epoch:  45 \t loss_policy: 0.299 \t loss_advantage: 403.218 \t return: 197.423 \t ep_len: 197.423\n",
      "epoch:  46 \t loss_policy: -1.084 \t loss_advantage: 358.152 \t return: 200.000 \t ep_len: 200.000\n",
      "epoch:  47 \t loss_policy: -1.944 \t loss_advantage: 379.854 \t return: 200.000 \t ep_len: 200.000\n",
      "epoch:  48 \t loss_policy: -1.658 \t loss_advantage: 301.236 \t return: 198.923 \t ep_len: 198.923\n",
      "epoch:  49 \t loss_policy: -0.936 \t loss_advantage: 350.272 \t return: 200.000 \t ep_len: 200.000\n"
     ]
    }
   ],
   "source": [
    "!python algos/ppo.py --render"
   ]
  },
  {
   "cell_type": "code",
   "execution_count": null,
   "metadata": {},
   "outputs": [],
   "source": []
  }
 ],
 "metadata": {
  "kernelspec": {
   "display_name": "Python 3",
   "language": "python",
   "name": "python3"
  },
  "language_info": {
   "codemirror_mode": {
    "name": "ipython",
    "version": 3
   },
   "file_extension": ".py",
   "mimetype": "text/x-python",
   "name": "python",
   "nbconvert_exporter": "python",
   "pygments_lexer": "ipython3",
   "version": "3.8.5"
  }
 },
 "nbformat": 4,
 "nbformat_minor": 4
}
